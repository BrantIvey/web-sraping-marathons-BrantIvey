{
 "cells": [
  {
   "cell_type": "code",
   "execution_count": 1,
   "metadata": {},
   "outputs": [],
   "source": [
    "import requests\n",
    "from bs4 import BeautifulSoup"
   ]
  },
  {
   "cell_type": "code",
   "execution_count": 66,
   "metadata": {},
   "outputs": [],
   "source": [
    "GITHUB_URL = 'https://www.runrocknroll.com'\n",
    "ORG_URL = f'{GITHUB_URL}/Events/Nashville/The-Races/Marathon/2019-Results'"
   ]
  },
  {
   "cell_type": "code",
   "execution_count": 67,
   "metadata": {},
   "outputs": [],
   "source": [
    "MARATHONS_CONFIG = {\n",
    "    'base_url': 'https://www.runrocknroll.com',\n",
    "    'query_params': 'gender=&agegroup=&bib=&firstname=&lastname=&page=',\n",
    "    'pages': [\n",
    "        'Events/Nashville/The-Races/Marathon/2019-Results',\n",
    "            ]\n",
    "}"
   ]
  },
  {
   "cell_type": "code",
   "execution_count": 44,
   "metadata": {},
   "outputs": [
    {
     "name": "stdout",
     "output_type": "stream",
     "text": [
      "200\n"
     ]
    }
   ],
   "source": [
    "# pull data from the page\n",
    "resp = requests.post('https://www.runrocknroll.com/Events/Nashville/The-Races/Marathon/2019-Results?gender=&agegroup=&bib=&firstname=&lastname=&page=114'\n",
    ")\n",
    "# We want the print statement to be 200\n",
    "\n",
    "print(resp.status_code)"
   ]
  },
  {
   "cell_type": "code",
   "execution_count": 45,
   "metadata": {},
   "outputs": [],
   "source": [
    "soup = BeautifulSoup(resp.text, 'html.parser')"
   ]
  },
  {
   "cell_type": "code",
   "execution_count": 56,
   "metadata": {},
   "outputs": [
    {
     "name": "stdout",
     "output_type": "stream",
     "text": [
      "<ul class=\"pagination\">\n",
      " <li class=\"PagedList-skipToPrevious\">\n",
      "  <a href=\"https://www.runrocknroll.com/Events/Nashville/The-Races/Marathon/2019-Results?gender=&amp;agegroup=&amp;bib=&amp;firstname=&amp;lastname=&amp;page=113\" rel=\"prev\">\n",
      "   &lt;\n",
      "  </a>\n",
      " </li>\n",
      " <li class=\"PagedList-skipToPrevious\">\n",
      "  <a href=\"https://www.runrocknroll.com/Events/Nashville/The-Races/Marathon/2019-Results?gender=&amp;agegroup=&amp;bib=&amp;firstname=&amp;lastname=&amp;page=108\" rel=\"prev\">\n",
      "   …\n",
      "  </a>\n",
      " </li>\n",
      " <li>\n",
      "  <a href=\"https://www.runrocknroll.com/Events/Nashville/The-Races/Marathon/2019-Results?gender=&amp;agegroup=&amp;bib=&amp;firstname=&amp;lastname=&amp;page=109\">\n",
      "   109\n",
      "  </a>\n",
      " </li>\n",
      " <li>\n",
      "  <a href=\"https://www.runrocknroll.com/Events/Nashville/The-Races/Marathon/2019-Results?gender=&amp;agegroup=&amp;bib=&amp;firstname=&amp;lastname=&amp;page=110\">\n",
      "   110\n",
      "  </a>\n",
      " </li>\n",
      " <li>\n",
      "  <a href=\"https://www.runrocknroll.com/Events/Nashville/The-Races/Marathon/2019-Results?gender=&amp;agegroup=&amp;bib=&amp;firstname=&amp;lastname=&amp;page=111\">\n",
      "   111\n",
      "  </a>\n",
      " </li>\n",
      " <li>\n",
      "  <a href=\"https://www.runrocknroll.com/Events/Nashville/The-Races/Marathon/2019-Results?gender=&amp;agegroup=&amp;bib=&amp;firstname=&amp;lastname=&amp;page=112\">\n",
      "   112\n",
      "  </a>\n",
      " </li>\n",
      " <li>\n",
      "  <a href=\"https://www.runrocknroll.com/Events/Nashville/The-Races/Marathon/2019-Results?gender=&amp;agegroup=&amp;bib=&amp;firstname=&amp;lastname=&amp;page=113\">\n",
      "   113\n",
      "  </a>\n",
      " </li>\n",
      " <li class=\"disabled PagedList-skipToNext\">\n",
      "  <a rel=\"next\">\n",
      "   &gt;\n",
      "  </a>\n",
      " </li>\n",
      "</ul>\n"
     ]
    }
   ],
   "source": [
    "# since `soup.findAll` returns a list of elements.. We need to extract the first result.\n",
    "pagination_elems = soup.findAll('ul', {'class': 'pagination'})\n",
    "pagination_elem = pagination_elems[0]\n",
    "\n",
    "print(pagination_elem.prettify())"
   ]
  },
  {
   "cell_type": "code",
   "execution_count": 57,
   "metadata": {},
   "outputs": [
    {
     "data": {
      "text/plain": [
       "[<a href=\"https://www.runrocknroll.com/Events/Nashville/The-Races/Marathon/2019-Results?gender=&amp;agegroup=&amp;bib=&amp;firstname=&amp;lastname=&amp;page=113\" rel=\"prev\">&lt;</a>,\n",
       " <a href=\"https://www.runrocknroll.com/Events/Nashville/The-Races/Marathon/2019-Results?gender=&amp;agegroup=&amp;bib=&amp;firstname=&amp;lastname=&amp;page=108\" rel=\"prev\">…</a>,\n",
       " <a href=\"https://www.runrocknroll.com/Events/Nashville/The-Races/Marathon/2019-Results?gender=&amp;agegroup=&amp;bib=&amp;firstname=&amp;lastname=&amp;page=109\">109</a>,\n",
       " <a href=\"https://www.runrocknroll.com/Events/Nashville/The-Races/Marathon/2019-Results?gender=&amp;agegroup=&amp;bib=&amp;firstname=&amp;lastname=&amp;page=110\">110</a>,\n",
       " <a href=\"https://www.runrocknroll.com/Events/Nashville/The-Races/Marathon/2019-Results?gender=&amp;agegroup=&amp;bib=&amp;firstname=&amp;lastname=&amp;page=111\">111</a>,\n",
       " <a href=\"https://www.runrocknroll.com/Events/Nashville/The-Races/Marathon/2019-Results?gender=&amp;agegroup=&amp;bib=&amp;firstname=&amp;lastname=&amp;page=112\">112</a>,\n",
       " <a href=\"https://www.runrocknroll.com/Events/Nashville/The-Races/Marathon/2019-Results?gender=&amp;agegroup=&amp;bib=&amp;firstname=&amp;lastname=&amp;page=113\">113</a>,\n",
       " <a rel=\"next\">&gt;</a>]"
      ]
     },
     "execution_count": 57,
     "metadata": {},
     "output_type": "execute_result"
    }
   ],
   "source": [
    "# now, let's get all of the links from the pagination element.\n",
    "links = pagination_elem.findAll('a')\n",
    "links"
   ]
  },
  {
   "cell_type": "code",
   "execution_count": 58,
   "metadata": {},
   "outputs": [
    {
     "data": {
      "text/plain": [
       "<a href=\"https://www.runrocknroll.com/Events/Nashville/The-Races/Marathon/2019-Results?gender=&amp;agegroup=&amp;bib=&amp;firstname=&amp;lastname=&amp;page=113\">113</a>"
      ]
     },
     "execution_count": 58,
     "metadata": {},
     "output_type": "execute_result"
    }
   ],
   "source": [
    "# In our case.. We are interested in the link that represents the final page. \n",
    "# So, 2 from the back.\n",
    "final_page = links[-2]\n",
    "final_page"
   ]
  },
  {
   "cell_type": "code",
   "execution_count": 59,
   "metadata": {},
   "outputs": [
    {
     "data": {
      "text/plain": [
       "113"
      ]
     },
     "execution_count": 59,
     "metadata": {},
     "output_type": "execute_result"
    }
   ],
   "source": [
    "# Now, we can get the text, and convert to an integer.\n",
    "final_page_number = int(final_page.text)\n",
    "final_page_number"
   ]
  },
  {
   "cell_type": "code",
   "execution_count": 68,
   "metadata": {},
   "outputs": [
    {
     "data": {
      "text/plain": [
       "['https://www.runrocknroll.com/Events/Nashville/The-Races/Marathon/2019-Results?page=1',\n",
       " 'https://www.runrocknroll.com/Events/Nashville/The-Races/Marathon/2019-Results?page=2',\n",
       " 'https://www.runrocknroll.com/Events/Nashville/The-Races/Marathon/2019-Results?page=3',\n",
       " 'https://www.runrocknroll.com/Events/Nashville/The-Races/Marathon/2019-Results?page=4',\n",
       " 'https://www.runrocknroll.com/Events/Nashville/The-Races/Marathon/2019-Results?page=5',\n",
       " 'https://www.runrocknroll.com/Events/Nashville/The-Races/Marathon/2019-Results?page=6',\n",
       " 'https://www.runrocknroll.com/Events/Nashville/The-Races/Marathon/2019-Results?page=7',\n",
       " 'https://www.runrocknroll.com/Events/Nashville/The-Races/Marathon/2019-Results?page=8',\n",
       " 'https://www.runrocknroll.com/Events/Nashville/The-Races/Marathon/2019-Results?page=9',\n",
       " 'https://www.runrocknroll.com/Events/Nashville/The-Races/Marathon/2019-Results?page=10',\n",
       " 'https://www.runrocknroll.com/Events/Nashville/The-Races/Marathon/2019-Results?page=11',\n",
       " 'https://www.runrocknroll.com/Events/Nashville/The-Races/Marathon/2019-Results?page=12',\n",
       " 'https://www.runrocknroll.com/Events/Nashville/The-Races/Marathon/2019-Results?page=13',\n",
       " 'https://www.runrocknroll.com/Events/Nashville/The-Races/Marathon/2019-Results?page=14',\n",
       " 'https://www.runrocknroll.com/Events/Nashville/The-Races/Marathon/2019-Results?page=15',\n",
       " 'https://www.runrocknroll.com/Events/Nashville/The-Races/Marathon/2019-Results?page=16',\n",
       " 'https://www.runrocknroll.com/Events/Nashville/The-Races/Marathon/2019-Results?page=17',\n",
       " 'https://www.runrocknroll.com/Events/Nashville/The-Races/Marathon/2019-Results?page=18',\n",
       " 'https://www.runrocknroll.com/Events/Nashville/The-Races/Marathon/2019-Results?page=19',\n",
       " 'https://www.runrocknroll.com/Events/Nashville/The-Races/Marathon/2019-Results?page=20',\n",
       " 'https://www.runrocknroll.com/Events/Nashville/The-Races/Marathon/2019-Results?page=21',\n",
       " 'https://www.runrocknroll.com/Events/Nashville/The-Races/Marathon/2019-Results?page=22',\n",
       " 'https://www.runrocknroll.com/Events/Nashville/The-Races/Marathon/2019-Results?page=23',\n",
       " 'https://www.runrocknroll.com/Events/Nashville/The-Races/Marathon/2019-Results?page=24',\n",
       " 'https://www.runrocknroll.com/Events/Nashville/The-Races/Marathon/2019-Results?page=25',\n",
       " 'https://www.runrocknroll.com/Events/Nashville/The-Races/Marathon/2019-Results?page=26',\n",
       " 'https://www.runrocknroll.com/Events/Nashville/The-Races/Marathon/2019-Results?page=27',\n",
       " 'https://www.runrocknroll.com/Events/Nashville/The-Races/Marathon/2019-Results?page=28',\n",
       " 'https://www.runrocknroll.com/Events/Nashville/The-Races/Marathon/2019-Results?page=29',\n",
       " 'https://www.runrocknroll.com/Events/Nashville/The-Races/Marathon/2019-Results?page=30',\n",
       " 'https://www.runrocknroll.com/Events/Nashville/The-Races/Marathon/2019-Results?page=31',\n",
       " 'https://www.runrocknroll.com/Events/Nashville/The-Races/Marathon/2019-Results?page=32',\n",
       " 'https://www.runrocknroll.com/Events/Nashville/The-Races/Marathon/2019-Results?page=33',\n",
       " 'https://www.runrocknroll.com/Events/Nashville/The-Races/Marathon/2019-Results?page=34',\n",
       " 'https://www.runrocknroll.com/Events/Nashville/The-Races/Marathon/2019-Results?page=35',\n",
       " 'https://www.runrocknroll.com/Events/Nashville/The-Races/Marathon/2019-Results?page=36',\n",
       " 'https://www.runrocknroll.com/Events/Nashville/The-Races/Marathon/2019-Results?page=37',\n",
       " 'https://www.runrocknroll.com/Events/Nashville/The-Races/Marathon/2019-Results?page=38',\n",
       " 'https://www.runrocknroll.com/Events/Nashville/The-Races/Marathon/2019-Results?page=39',\n",
       " 'https://www.runrocknroll.com/Events/Nashville/The-Races/Marathon/2019-Results?page=40',\n",
       " 'https://www.runrocknroll.com/Events/Nashville/The-Races/Marathon/2019-Results?page=41',\n",
       " 'https://www.runrocknroll.com/Events/Nashville/The-Races/Marathon/2019-Results?page=42',\n",
       " 'https://www.runrocknroll.com/Events/Nashville/The-Races/Marathon/2019-Results?page=43',\n",
       " 'https://www.runrocknroll.com/Events/Nashville/The-Races/Marathon/2019-Results?page=44',\n",
       " 'https://www.runrocknroll.com/Events/Nashville/The-Races/Marathon/2019-Results?page=45',\n",
       " 'https://www.runrocknroll.com/Events/Nashville/The-Races/Marathon/2019-Results?page=46',\n",
       " 'https://www.runrocknroll.com/Events/Nashville/The-Races/Marathon/2019-Results?page=47',\n",
       " 'https://www.runrocknroll.com/Events/Nashville/The-Races/Marathon/2019-Results?page=48',\n",
       " 'https://www.runrocknroll.com/Events/Nashville/The-Races/Marathon/2019-Results?page=49',\n",
       " 'https://www.runrocknroll.com/Events/Nashville/The-Races/Marathon/2019-Results?page=50',\n",
       " 'https://www.runrocknroll.com/Events/Nashville/The-Races/Marathon/2019-Results?page=51',\n",
       " 'https://www.runrocknroll.com/Events/Nashville/The-Races/Marathon/2019-Results?page=52',\n",
       " 'https://www.runrocknroll.com/Events/Nashville/The-Races/Marathon/2019-Results?page=53',\n",
       " 'https://www.runrocknroll.com/Events/Nashville/The-Races/Marathon/2019-Results?page=54',\n",
       " 'https://www.runrocknroll.com/Events/Nashville/The-Races/Marathon/2019-Results?page=55',\n",
       " 'https://www.runrocknroll.com/Events/Nashville/The-Races/Marathon/2019-Results?page=56',\n",
       " 'https://www.runrocknroll.com/Events/Nashville/The-Races/Marathon/2019-Results?page=57',\n",
       " 'https://www.runrocknroll.com/Events/Nashville/The-Races/Marathon/2019-Results?page=58',\n",
       " 'https://www.runrocknroll.com/Events/Nashville/The-Races/Marathon/2019-Results?page=59',\n",
       " 'https://www.runrocknroll.com/Events/Nashville/The-Races/Marathon/2019-Results?page=60',\n",
       " 'https://www.runrocknroll.com/Events/Nashville/The-Races/Marathon/2019-Results?page=61',\n",
       " 'https://www.runrocknroll.com/Events/Nashville/The-Races/Marathon/2019-Results?page=62',\n",
       " 'https://www.runrocknroll.com/Events/Nashville/The-Races/Marathon/2019-Results?page=63',\n",
       " 'https://www.runrocknroll.com/Events/Nashville/The-Races/Marathon/2019-Results?page=64',\n",
       " 'https://www.runrocknroll.com/Events/Nashville/The-Races/Marathon/2019-Results?page=65',\n",
       " 'https://www.runrocknroll.com/Events/Nashville/The-Races/Marathon/2019-Results?page=66',\n",
       " 'https://www.runrocknroll.com/Events/Nashville/The-Races/Marathon/2019-Results?page=67',\n",
       " 'https://www.runrocknroll.com/Events/Nashville/The-Races/Marathon/2019-Results?page=68',\n",
       " 'https://www.runrocknroll.com/Events/Nashville/The-Races/Marathon/2019-Results?page=69',\n",
       " 'https://www.runrocknroll.com/Events/Nashville/The-Races/Marathon/2019-Results?page=70',\n",
       " 'https://www.runrocknroll.com/Events/Nashville/The-Races/Marathon/2019-Results?page=71',\n",
       " 'https://www.runrocknroll.com/Events/Nashville/The-Races/Marathon/2019-Results?page=72',\n",
       " 'https://www.runrocknroll.com/Events/Nashville/The-Races/Marathon/2019-Results?page=73',\n",
       " 'https://www.runrocknroll.com/Events/Nashville/The-Races/Marathon/2019-Results?page=74',\n",
       " 'https://www.runrocknroll.com/Events/Nashville/The-Races/Marathon/2019-Results?page=75',\n",
       " 'https://www.runrocknroll.com/Events/Nashville/The-Races/Marathon/2019-Results?page=76',\n",
       " 'https://www.runrocknroll.com/Events/Nashville/The-Races/Marathon/2019-Results?page=77',\n",
       " 'https://www.runrocknroll.com/Events/Nashville/The-Races/Marathon/2019-Results?page=78',\n",
       " 'https://www.runrocknroll.com/Events/Nashville/The-Races/Marathon/2019-Results?page=79',\n",
       " 'https://www.runrocknroll.com/Events/Nashville/The-Races/Marathon/2019-Results?page=80',\n",
       " 'https://www.runrocknroll.com/Events/Nashville/The-Races/Marathon/2019-Results?page=81',\n",
       " 'https://www.runrocknroll.com/Events/Nashville/The-Races/Marathon/2019-Results?page=82',\n",
       " 'https://www.runrocknroll.com/Events/Nashville/The-Races/Marathon/2019-Results?page=83',\n",
       " 'https://www.runrocknroll.com/Events/Nashville/The-Races/Marathon/2019-Results?page=84',\n",
       " 'https://www.runrocknroll.com/Events/Nashville/The-Races/Marathon/2019-Results?page=85',\n",
       " 'https://www.runrocknroll.com/Events/Nashville/The-Races/Marathon/2019-Results?page=86',\n",
       " 'https://www.runrocknroll.com/Events/Nashville/The-Races/Marathon/2019-Results?page=87',\n",
       " 'https://www.runrocknroll.com/Events/Nashville/The-Races/Marathon/2019-Results?page=88',\n",
       " 'https://www.runrocknroll.com/Events/Nashville/The-Races/Marathon/2019-Results?page=89',\n",
       " 'https://www.runrocknroll.com/Events/Nashville/The-Races/Marathon/2019-Results?page=90',\n",
       " 'https://www.runrocknroll.com/Events/Nashville/The-Races/Marathon/2019-Results?page=91',\n",
       " 'https://www.runrocknroll.com/Events/Nashville/The-Races/Marathon/2019-Results?page=92',\n",
       " 'https://www.runrocknroll.com/Events/Nashville/The-Races/Marathon/2019-Results?page=93',\n",
       " 'https://www.runrocknroll.com/Events/Nashville/The-Races/Marathon/2019-Results?page=94',\n",
       " 'https://www.runrocknroll.com/Events/Nashville/The-Races/Marathon/2019-Results?page=95',\n",
       " 'https://www.runrocknroll.com/Events/Nashville/The-Races/Marathon/2019-Results?page=96',\n",
       " 'https://www.runrocknroll.com/Events/Nashville/The-Races/Marathon/2019-Results?page=97',\n",
       " 'https://www.runrocknroll.com/Events/Nashville/The-Races/Marathon/2019-Results?page=98',\n",
       " 'https://www.runrocknroll.com/Events/Nashville/The-Races/Marathon/2019-Results?page=99',\n",
       " 'https://www.runrocknroll.com/Events/Nashville/The-Races/Marathon/2019-Results?page=100',\n",
       " 'https://www.runrocknroll.com/Events/Nashville/The-Races/Marathon/2019-Results?page=101',\n",
       " 'https://www.runrocknroll.com/Events/Nashville/The-Races/Marathon/2019-Results?page=102',\n",
       " 'https://www.runrocknroll.com/Events/Nashville/The-Races/Marathon/2019-Results?page=103',\n",
       " 'https://www.runrocknroll.com/Events/Nashville/The-Races/Marathon/2019-Results?page=104',\n",
       " 'https://www.runrocknroll.com/Events/Nashville/The-Races/Marathon/2019-Results?page=105',\n",
       " 'https://www.runrocknroll.com/Events/Nashville/The-Races/Marathon/2019-Results?page=106',\n",
       " 'https://www.runrocknroll.com/Events/Nashville/The-Races/Marathon/2019-Results?page=107',\n",
       " 'https://www.runrocknroll.com/Events/Nashville/The-Races/Marathon/2019-Results?page=108',\n",
       " 'https://www.runrocknroll.com/Events/Nashville/The-Races/Marathon/2019-Results?page=109',\n",
       " 'https://www.runrocknroll.com/Events/Nashville/The-Races/Marathon/2019-Results?page=110',\n",
       " 'https://www.runrocknroll.com/Events/Nashville/The-Races/Marathon/2019-Results?page=111',\n",
       " 'https://www.runrocknroll.com/Events/Nashville/The-Races/Marathon/2019-Results?page=112',\n",
       " 'https://www.runrocknroll.com/Events/Nashville/The-Races/Marathon/2019-Results?page=113']"
      ]
     },
     "execution_count": 68,
     "metadata": {},
     "output_type": "execute_result"
    }
   ],
   "source": [
    "repo_pages = [f'{ORG_URL}?page={i+1}' for i in range(final_page_number)]\n",
    "repo_pages"
   ]
  },
  {
   "cell_type": "code",
   "execution_count": 73,
   "metadata": {},
   "outputs": [
    {
     "name": "stdout",
     "output_type": "stream",
     "text": [
      "Total repositories on page: 8\n",
      "<li class=\"PagedList-skipToPrevious\">\n",
      " <a href=\"https://www.runrocknroll.com/Events/Nashville/The-Races/Marathon/2019-Results?gender=&amp;agegroup=&amp;bib=&amp;firstname=&amp;lastname=&amp;page=113\" rel=\"prev\">\n",
      "  &lt;\n",
      " </a>\n",
      "</li>\n",
      "\n"
     ]
    }
   ],
   "source": [
    "list_pager = soup.find(id='list-pager') \\\n",
    "    .find('ul') \\\n",
    "    .findAll('li')\n",
    "\n",
    "\n",
    "print(f'Total repositories on page: {len(list_pager)}')\n",
    "print(list_pager[0].prettify())"
   ]
  },
  {
   "cell_type": "code",
   "execution_count": null,
   "metadata": {},
   "outputs": [],
   "source": [
    "def get_page_soup(url):\n",
    "    print(f'Fetching website data for: {url}')\n",
    "    resp = requests.get(url)\n",
    "    return BeautifulSoup(resp.text, 'html.parser')\n",
    "\n",
    "\n",
    "def get_org_repositories(soup):\n",
    "    print('\\tGetting org repositories')\n",
    "    return soup.find(id='org-repositories') \\\n",
    "        .find('ul') \\\n",
    "        .findAll('li')\n",
    "\n",
    "\n",
    "def extract_org_repository_links(org_repositories):\n",
    "    print('\\tGetting links from repositories')\n",
    "    return [repo.find('a').get('href') for repo in org_repositories]"
   ]
  },
  {
   "cell_type": "code",
   "execution_count": null,
   "metadata": {},
   "outputs": [],
   "source": []
  }
 ],
 "metadata": {
  "kernelspec": {
   "display_name": "Python 3",
   "language": "python",
   "name": "python3"
  },
  "language_info": {
   "codemirror_mode": {
    "name": "ipython",
    "version": 3
   },
   "file_extension": ".py",
   "mimetype": "text/x-python",
   "name": "python",
   "nbconvert_exporter": "python",
   "pygments_lexer": "ipython3",
   "version": "3.7.6"
  }
 },
 "nbformat": 4,
 "nbformat_minor": 4
}
